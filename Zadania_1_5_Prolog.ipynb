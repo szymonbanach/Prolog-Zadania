{
  "nbformat": 4,
  "nbformat_minor": 0,
  "metadata": {
    "colab": {
      "provenance": [],
      "authorship_tag": "ABX9TyMF13c9yP/G3URqIdstNf2p",
      "include_colab_link": true
    },
    "kernelspec": {
      "name": "python3",
      "display_name": "Python 3"
    },
    "language_info": {
      "name": "python"
    }
  },
  "cells": [
    {
      "cell_type": "markdown",
      "metadata": {
        "id": "view-in-github",
        "colab_type": "text"
      },
      "source": [
        "<a href=\"https://colab.research.google.com/github/szymonbanach/Prolog-Zadania/blob/main/Zadania_1_5_Prolog.ipynb\" target=\"_parent\"><img src=\"https://colab.research.google.com/assets/colab-badge.svg\" alt=\"Open In Colab\"/></a>"
      ]
    },
    {
      "cell_type": "markdown",
      "source": [
        "#Zadanie 1\n",
        "\n",
        "Zadanie: Stwórz bazę faktów dla drzewa genealogicznego, która obejmuje relacje rodzic-dziecko, małżeństwo oraz płeć. Następnie zdefiniuj reguły przodek(X, Y), brat(X, Y), siostra(X, Y), kuzyn(X, Y)."
      ],
      "metadata": {
        "id": "ya4ThMWj8KC5"
      }
    },
    {
      "cell_type": "code",
      "execution_count": null,
      "metadata": {
        "id": "99mnVUgb7ugB"
      },
      "outputs": [],
      "source": [
        "% Używam dyrektywy discontigous by fakty mogły być rozdzielone na grupy\n",
        ":- discontiguous ojciec/2.\n",
        ":- discontiguous matka/2.\n",
        ":- discontiguous malzenstwo/2.\n",
        ":- discontiguous mezczyzna/1.\n",
        ":- discontiguous kobieta/1.\n",
        "\n",
        "% Fakty o rodzicach1\n",
        "ojciec(piotr, szymon).\n",
        "ojciec(piotr, michal).\n",
        "ojciec(piotr, izabela).\n",
        "matka(agnieszka, szymon).\n",
        "matka(agnieszka, michal).\n",
        "matka(agnieszka, izabela).\n",
        "\n",
        "% Fakty o relacji rodziców1\n",
        "malzenstwo(piotr, agnieszka).\n",
        "\n",
        "% Fakty o płci1\n",
        "mezczyzna(piotr).\n",
        "mezczyzna(szymon).\n",
        "mezczyzna(michal).\n",
        "kobieta(agnieszka).\n",
        "kobieta(izabela).\n",
        "\n",
        "%fakty rodzicach2\n",
        "ojciec(lukasz, tomasz).\n",
        "matka(ewa, tomasz).\n",
        "\n",
        "%fakty o relacji rodziców2\n",
        "malzenstwo(lukasz, ewa).\n",
        "\n",
        "%fakty o płci2\n",
        "mezczyzna(lukasz).\n",
        "mezczyzna(tomasz).\n",
        "kobieta(ewa).\n",
        "\n",
        "%fakty o dziadkach\n",
        "ojciec(jozef, agnieszka).\n",
        "ojciec(jozef, ewa).\n",
        "matka(krystyna, agnieszka).\n",
        "matka(krystyna, ewa).\n",
        "mezczyzna(jozef).\n",
        "kobieta(krystyna).\n",
        "\n",
        "\n",
        "% Reguła rodzica\n",
        "rodzic(X, Y) :- ojciec(X, Y).\n",
        "rodzic(X, Y) :- matka(X, Y).\n",
        "% Przykładowe zapytanie: ?- rodzic(piotr, szymon).\n",
        "% Oczekiwana odpowiedz: true\n",
        "\n",
        "\n",
        "% Reguła przodka\n",
        "przodek(X, Y) :- rodzic(X, Y).\n",
        "% dodaję rekurencję do następnych pokoleń\n",
        "przodek(X, Y) :-\n",
        "  rodzic(X, Z),\n",
        "  rodzic(Z, Y).\n",
        "% Przykładowe zapytanie: ?- przodek(jozef, szymon).\n",
        "% Oczekiwana odpowiedz: true\n",
        "\n",
        "% Reguła malzenstwa\n",
        "malzenstwo(X, Y) :-\n",
        "    malzenstwo(Y, X).\n",
        "\n",
        "% Reguła brata i siostry\n",
        "brat(X, Y) :-\n",
        "  rodzic(Z, X),\n",
        "  rodzic(Z, Y),\n",
        "  X \\= Y, % X nie może być bratem samego siebie.\n",
        "  mezczyzna(X).\n",
        "% Przykładowe zapytanie: ?- brat(michal, szymon).\n",
        "% Oczekiwana odpowiedz: true\n",
        "\n",
        "siostra(X, Y) :-\n",
        "  rodzic(Z, X),\n",
        "  rodzic(Z, Y),\n",
        "  X \\= Y, % X nie może być siostrą samej siebie.\n",
        "  kobieta(X).\n",
        "% Przykładowe zapytanie: ?- siostra(agnieszka, ewa).\n",
        "% Oczekiwana odpowiedz: true\n",
        "\n",
        "% Reguła rodzeństwa potrzebna do reguły kuzyna\n",
        "rodzenstwo(X, Y) :-\n",
        "  brat(X, Y).\n",
        "rodzenstwo(X, Y) :-\n",
        "  siostra(X, Y).\n",
        "\n",
        "% Reguła kuzyna\n",
        "kuzyn(X, Y) :-\n",
        "  rodzic(Z, X),\n",
        "  rodzic(V, Y),\n",
        "  rodzenstwo(Z, V). % rodzice kuzynów muszą być rodzeństwem\n",
        "% Przykładowe zapytanie: ?- kuzyn(tomasz, szymon).\n",
        "% Oczeikiwana odpowiedz: true"
      ]
    },
    {
      "cell_type": "markdown",
      "source": [
        "#Zadanie 2\n",
        "\n",
        "Cel zadania: Stwórz i zaimplementuj bazę faktów dla systemu rezerwacji lotów, który umożliwia zarządzanie lotniskami, połączeniami między nimi oraz cenami biletów. Opracuj reguły, które pozwolą na zapytania o bezpośrednie połączenia, koszt podróży oraz znalezienie najkrótszej trasy między lotniskami.\n"
      ],
      "metadata": {
        "id": "hSHuRRjN8e75"
      }
    },
    {
      "cell_type": "code",
      "source": [
        "% Fakty o lotniskach\n",
        "lotnisko(warszawa).\n",
        "lotnisko(liverpool).\n",
        "lotnisko(rzym).\n",
        "lotnisko(oslo).\n",
        "lotnisko(madryt).\n",
        "\n",
        "% Fakty o połączeniach\n",
        "polaczenie(warszawa, liverpool, 200).\n",
        "polaczenie(liverpool, warszawa, 200).\n",
        "polaczenie(warszawa, rzym, 300).\n",
        "polaczenie(rzym, warszawa, 300).\n",
        "polaczenie(warszawa, oslo, 600).\n",
        "polaczenie(oslo, warszawa, 600).\n",
        "polaczenie(liverpool, rzym, 650).\n",
        "polaczenie(rzym, liverpool, 650).\n",
        "polaczenie(liverpool, oslo, 850).\n",
        "polaczenie(oslo, liverpool, 850).\n",
        "polaczenie(liverpool, madryt, 490).\n",
        "polaczenie(madryt, liverpool, 490).\n",
        "polaczenie(rzym, madryt, 550).\n",
        "polaczenie(madryt, rzym, 550).\n",
        "\n",
        "% Reguła sprawdzająca istnienie bezpośredniego połączenia\n",
        "polaczenie(X, Y) :-\n",
        "    polaczenie(Y, X, _),\n",
        "    write('Dostepne polaczenie bezposrednie').\n",
        "% Przykładowe zapytanie: ?- polaczenie(warszawa, oslo).\n",
        "% Oczekiwana odpowiedz: true\n",
        "\n",
        "% Pomocnicza reguła wynajdująca trasę bezpośrednią\n",
        "trasa(X, Y, _, C, [X, Y]) :-\n",
        "    polaczenie(X, Y, C),\n",
        "     X \\= Y. % Miasto początkowe nie może być miastem docelowym\n",
        "% Pomocnicza reguła wynajdujaca trasę pośrednią\n",
        "trasa(X, Y, Odwiedzone, C, [X | ResztaS]) :- % Odwiedzone - lista punktów odwiedzonych już, [X | ResztaS(Reszta drogi)] - lista punktów jakie trzeba odwiedzić.\n",
        "    polaczenie(X, Z, C1),\n",
        "    lotnisko(X), lotnisko(Y), % Oba miasta muszą istnieć w bazie\n",
        "    X \\= Y, % Miasto początkowe nie może być miastem docelowym\n",
        "    \\+ member(Z, Odwiedzone), % Pilnuje czy punkt Z nie znajduje się w Odwiedzonych, by zapobiec zapętleniu\n",
        "    trasa(Z, Y, [Z | Odwiedzone], C2, ResztaS), % Wykorzystanie rekurencji\n",
        "    C is C1 + C2. % Pełna cena podróży składa się z cen połączeń bezpośrednich\n",
        "\n",
        "% Reguła sprawdzająca koszt podróży.\n",
        "koszt_podrozy(X, Y) :-\n",
        "\tlotnisko(X), lotnisko(Y),\n",
        "    X \\= Y,\n",
        "    findall((C, S), trasa(X, Y, [X], C, S), Wyniki), % Funkcja findall zbiera wszystkie kombinacje cen i tras w liście wyniki. [X] - lista zawierająca punkt startowy, jest początkowym stanem listy Odwiedzone.\n",
        "    findall(C, member((C, _), Wyniki), Lista), % Funkcja findall zbiera wszystkie ceny wywoływanego połączenia z listy Wyniki i umieszcza je w liście Lista.\n",
        "\twrite('Ceny połączenia: '), write(Lista).\n",
        "% Przykładowe zapytanie: ?- koszt_podrozy(rzym, madryt).\n",
        "% Oczekiwana odpowiedz: Ceny połączenia: [550, 990, 2240, 1140]\n",
        "\n",
        "% Moja reguła różni się od tej z polecenia, ponieważ pomyślałem, że dobrym pomysłem byłoby wypisanie wszystkich cen, niż żeby program wypisał pierwszą lepszą.\n",
        "% W razie czego przedstawiam również niżej bardziej zbliżoną wersję do tej z polecenia:\n",
        "koszt_podrozy1(X, Y, C) :-\n",
        "    trasa(X, Y, [], C, _), !. % Korzystam z reguły trasa, w której są zawarte wszystkie potrzebne informacje, lecz czas będzie różnić się w zależności od kierunku przejazdu na tej samej trasie.\n",
        "% Przykładowe zapytanie: ?- koszt_podrozy1(rzym, madryt, C).\n",
        "% Oczekiwana odpowiedz: C = 550\n",
        "\n",
        "% Regula wyznaczająca najkrótszą trasę wg. ceny\n",
        "najkrotsza_droga(X, Y) :-\n",
        "    findall((C, S), trasa(X, Y, [X], C, S), Wyniki),\n",
        "    findall(C, member((C, _), Wyniki), Lista),\n",
        "    min_list(Lista, MinC), % Wybiera najmniejsze wartości cen z listy.\n",
        "    member((MinC, MinS), Wyniki), % MinC, MinS znajdują się w liście Wyniki.\n",
        "    write('Koszt: '), write(MinC), nl, % nl dla nowej lini\n",
        "    write('Trasa: '), write(MinS), !. % cut\n",
        "% Przykładowe zapytanie: ?- najkrotsza_droga(oslo, madryt).\n",
        "% Oczekiwana odpowiedz: Koszt: 1290, Trasa: [oslo, warszawa, liverpool, madryt]"
      ],
      "metadata": {
        "id": "TL98k8S68jBJ"
      },
      "execution_count": null,
      "outputs": []
    },
    {
      "cell_type": "markdown",
      "source": [
        "Reguła koszt_podrozy posiada 2 wersje: koszt_podrozy(X, Y), oraz koszt_podrozy1(X, Y, C). Wersja koszt_podrozy(X, Y) zwraca wszystkie ceny danego połączenia.\n",
        "\n"
      ],
      "metadata": {
        "id": "W0qZCFWp9gWg"
      }
    },
    {
      "cell_type": "markdown",
      "source": [
        "#Zadanie 3\n",
        "\n",
        "Cel zadania: Stwórz i zaimplementuj bazę faktów dla systemu zarządzania magazynem. Baza danych powinna zawierać informacje o produktach, ich ilościach oraz lokalizacji w magazynie. Opracuj reguły, które umożliwią zarządzanie dostępnością produktów, ich przenoszeniem oraz uzupełnianiem stanu."
      ],
      "metadata": {
        "id": "KhNkpyz68pJx"
      }
    },
    {
      "cell_type": "code",
      "source": [
        "%Predykaty muszą być dynamiczne by zmieniać ich własności\n",
        ":- dynamic produkt/3.\n",
        "\n",
        "% Fakty o produktach\n",
        "produkt(tv, 20, sektor_a).\n",
        "produkt(smartfon, 54, sektor_a).\n",
        "produkt(amplituner, 30, sektor_b).\n",
        "produkt(gramofon, 15, sektor_b).\n",
        "produkt(sluchawki, 40, sektor_c).\n",
        "produkt(gitara, 12, sektor_c).\n",
        "\n",
        "% Reguła dostępności produktu\n",
        "dostepny_produkt(X) :-\n",
        "    produkt(X, N, _),\n",
        "    N > 0, % Jeśli ilość(N) jest większa niż 0, program zwróci wartość True\n",
        "\twrite('Status produktu: Dostepny').\n",
        "% Przykładowe zapytanie: ?- dostepny_produkt(tv).\n",
        "% Oczekiwana odpowiedz: Status produktu: Dostepny\n",
        "\n",
        "% Reguła przenosząca produkt do innego sektoru\n",
        "przenies_produkt(X, Y) :-\n",
        "    produkt(X, N, OldY),\n",
        "    retract(produkt(X, N, OldY)), % usuwa\n",
        "    assertz(produkt(X, N, Y)), % dodaje\n",
        "\twrite(produkt(X, N, Y)). % Nowa lokalizacja produktu\n",
        "% Przykładowe zapytanie: ?- przenies_produkt(tv, sektor_b).\n",
        "% Oczekiwana odpowiedz: produkt(tv,20,sektor_b)\n",
        "\n",
        "% Reguła dodającą ilość\n",
        "uzupelnij_stan(X, N) :-\n",
        "    produkt(X, N1, Y),\n",
        "    N2 is N1 + N, % Nowa ilość to suma ilości początkowej i ilości podawanej(N)\n",
        "    retract(produkt(X, N1, Y)), % usuwa\n",
        "\tassertz(produkt(X, N2, Y)), % dodaje\n",
        "\twrite(produkt(X, N2, Y)). %Nowa ilość produktu\n",
        "% Przykładowe zapytanie: ?- uzupelnij_stan(tv, 10).\n",
        "% Oczekiwana odpowiedz: produkt(tv,30,sektor_b)\n",
        "\n",
        "% P.S. Program nie działa w środowisku SWISH, dlatego trzeba go uruchamiać w SWI,\n",
        "dlatego na GitHub załączam również plik z rozszerzeniem pl."
      ],
      "metadata": {
        "id": "9gvSVFJO8r3Z"
      },
      "execution_count": null,
      "outputs": []
    },
    {
      "cell_type": "markdown",
      "source": [
        "Dodatkowo dodałem write do reguł, by w odpowiedzi dostawać coś więcej niż true"
      ],
      "metadata": {
        "id": "WjA1xXVm_GgR"
      }
    },
    {
      "cell_type": "markdown",
      "source": [
        "#Zadanie 4\n",
        "\n",
        "Cel zadania: Zaprojektuj i wdroż w Prologu bazę faktów dla systemu planowania trasy kuriera. Baza danych powinna zawierać informacje o miastach, połączeniach drogowych między nimi oraz czasie przejazdu. Opracuj reguły umożliwiające zapytania o dostępność dróg, obliczanie czasu przejazdu oraz wyznaczanie najkrótszej trasy.\n"
      ],
      "metadata": {
        "id": "JWEHBFGd8y3R"
      }
    },
    {
      "cell_type": "code",
      "source": [
        "% Fakty dla miast\n",
        "miasto(warszawa).\n",
        "miasto(lublin).\n",
        "miasto(krakow).\n",
        "miasto(wroclaw).\n",
        "miasto(gdansk).\n",
        "miasto(poznan).\n",
        "\n",
        "% Fakty dla połączeń bezpośrednich\n",
        "droga(warszawa, lublin, 2).\n",
        "droga(lublin, warszawa, 2).\n",
        "droga(lublin, krakow, 3).\n",
        "droga(krakow, lublin, 3).\n",
        "droga(krakow, wroclaw, 3).\n",
        "droga(wroclaw, krakow, 3).\n",
        "droga(gdansk, poznan, 4).\n",
        "droga(poznan, gdansk, 4).\n",
        "droga(warszawa, krakow, 2).\n",
        "droga(krakow, warszawa, 2).\n",
        "droga(warszawa, gdansk, 3).\n",
        "droga(gdansk, warszawa, 3).\n",
        "droga(warszawa, poznan, 3).\n",
        "droga(poznan, warszawa, 3).\n",
        "droga(wroclaw, poznan, 1).\n",
        "droga(poznan, wroclaw, 1).\n",
        "\n",
        "% Reguły\n",
        "droga(X, Y) :-\n",
        "    droga(X, Y, _),\n",
        "    write('Istnieje bezposrednie polaczenie: '), write(X), write(' - '), write(Y), !. % Dodałem to dodatkowo\n",
        "% Przykładowe zapytanie: ?- droga(lublin, warszawa).\n",
        "% Oczekiwana odpowiedz: Istnieje bezposrednie polaczenie: lublin - warszawa\n",
        "\n",
        "% Pomocnicza reguła wynajdująca trasę bezpośrednią\n",
        "trasa(X, Y, _, T, [X, Y]) :-\n",
        "    droga(X, Y, T), % Bezpośrednie połączenie\n",
        "    miasto(X), miasto(Y). % Oba miasta muszą istnieć w bazie\n",
        "% Pomocnicza reguła wynajdujaca trasę pośrednią\n",
        "trasa(X, Y, Odwiedzone, T, [X | ResztaS]) :- % Odwiedzone - lista punktów odwiedzonych już, [X | ResztaS(Reszta drogi)] - lista punktów jakie trzeba odwiedzić.\n",
        "    droga(X, Z, T1),\n",
        "    miasto(X), miasto(Y), % Oba miasta muszą istnieć w bazie\n",
        "    X \\= Y, % Miasto początkowe nie może być miastem docelowym\n",
        "    \\+ member(Z, Odwiedzone), % Pilnuje czy punkt Z nie znajduje się w Odwiedzonych, by zapobiec zapętleniu\n",
        "    trasa(Z, Y, [Z | Odwiedzone], T2, ResztaS), % Wykorzystanie rekurencji\n",
        "    T is T1 + T2. % Pełen czas podróży składa się z czasów indwywidualnych połączeń bezpośrednich\n",
        "\n",
        "czas_przejazdu(X, Y) :-\n",
        "    miasto(X), miasto(Y),\n",
        "    X \\= Y,\n",
        "    findall((T, S), trasa(X, Y, [X], T, S), Wyniki), % Funkcja findall zbiera wszystkie kombinacje cen i tras w liście wyniki. [X] - lista zawierająca punkt startowy, jest początkowym stanem listy Odwiedzone.\n",
        "    findall(T, member((T, _), Wyniki), Lista), % Funkcja findall zbiera wszystkie ceny wywoływanego połączenia z listy Wyniki i umieszcza je w liście Lista.\n",
        "\twrite('Czasy przejazdu: '), write(Lista).\n",
        "% Przykładowe zapytanie: ?- czas_przejazdu(gdansk, lublin).\n",
        "% Oczekiwana odpowiedz: Czasy przejazdu: [9, 12, 11, 12, 5, 8, 13]\n",
        "\n",
        "% Tak jak w zad.2 moja reguła różni się od tej z polecenia, ponieważ również pomyślałem, że dobrym pomysłem byłoby wypisanie wszystkich czasów, niż żeby program wypisał pierwszy lepszy.\n",
        "% Wersja bardziej zbliżona do tej z polecenia poniżej:\n",
        "czas_przejazdu1(X, Y, T) :-\n",
        "    trasa(X, Y, [], T, _), !. % Korzystam z reguły trasa, w której są zawarte wszystkie potrzebne informacje, lecz czas będzie różnić się w zależności od kierunku przejazdu na tej samej trasie.\n",
        "% Przykładowe zapytanie: ?- czas_przejazdu1(lublin, gdansk, T).\n",
        "% Oczekiwana odpowiedz: Czasy przejazdu: T = 5\n",
        "\n",
        "% Reguła wyznaczajaca najkrótszą trasę względem czasu przejazdu\n",
        "najkrotsza_trasa(X, Y) :-\n",
        "    findall((T, S), trasa(X, Y, [X], T, S), Wyniki), % Funkcja findall zbiera wszystkie kombinacje czasówn i tras w liście wyniki. [X] - lista zawierająca punkt startowy, jest początkowym stanem listy Odwiedzone.\n",
        "    findall(T, member((T, _), Wyniki), Lista), % Funkcja findall zbiera wszystkie czasy wywoływanego połączenia z listy Wyniki i umieszcza je w liście Lista.\n",
        "    min_list(Lista, MinT), % Wybiera najmniejsze wartości czsów z listy.\n",
        "    member((MinT, MinS), Wyniki), % MinT, MinS znajdują się w liście Wyniki.\n",
        "    write('Najkrotszy czas przejazdu: '), write(MinT), nl, % dla nowej linijki\n",
        "    write('Trasa: '), write(MinS), !. % cut\n",
        "% Przykładowe zapytanie: ?- najkrotsza_trasa(lublin, wroclaw).\n",
        "% Oczekiwana odpowiedz: Najkrotszy czas przejazdu: 6, Trasa: [lublin, warszawa, poznan, wroclaw]"
      ],
      "metadata": {
        "id": "fHHrSPdV80qJ"
      },
      "execution_count": null,
      "outputs": []
    },
    {
      "cell_type": "markdown",
      "source": [
        "Reguła koszt_podrozy posiada 2 wersje: czas_przejazdu(X, Y), oraz czas_przejazdu1(X, Y, C). Wersja czas_przejazdu(X, Y) zwraca wszystkie czasy danego połączenia."
      ],
      "metadata": {
        "id": "4tUFNUn4_Vgo"
      }
    },
    {
      "cell_type": "markdown",
      "source": [
        "#Zadanie 5\n",
        "\n",
        "Cel zadania: Stwórz system rekomendacji książek, który uwzględnia preferencje użytkowników, gatunki literackie oraz oceny książek. Twój system powinien być w stanie rekomendować książki danego gatunku użytkownikowi na podstawie jego preferencji oraz wcześniej przyznanych ocen."
      ],
      "metadata": {
        "id": "BjmOCVu985uh"
      }
    },
    {
      "cell_type": "code",
      "source": [
        ":- dynamic ocena/3.\n",
        "\n",
        "% Fakty\n",
        "ksiazka('Ogniem i mieczem', sienkiewicz, powiesc).\n",
        "ksiazka('Mroki', gombrowicz, poezja).\n",
        "ksiazka('Lalka', prus, powiesc).\n",
        "ksiazka('Maly ksiaze', saint-exupery, powiesc).\n",
        "ksiazka('Wybor poezji', lesmian, poezja).\n",
        "ksiazka('Ojciec Chrzestny', puzo, powiesc).\n",
        "ocena(uzytkownik1, 'Ogniem i mieczem', 2).\n",
        "ocena(uzytkownik1, 'Ojciec Chrzestny', 5).\n",
        "preferencje(uzytkownik1, powiesc).\n",
        "preferencje(uzytkownik2, poezja).\n",
        "\n",
        "% Dodanie nowej oceny\n",
        "dodaj_ocene(X, Ksiazka, Ocena) :-\n",
        "    assertz(ocena(X, Ksiazka, Ocena)), % Dodawanie nowych faktów (ocen).\n",
        "\twrite('Pomyslnie dodano: '), write(ocena(X, Ksiazka, Ocena)).\n",
        "% Przykładowe zapytanie: ?- dodaj_ocene(uzytkownik2, 'Wybor poezji', 5).\n",
        "% Oczekiwana odpowiedz: Pomyslnie dodano: ocena(uzytkownik2,Wybor poezji,5)\n",
        "\n",
        "% Usunięcie oceny\n",
        "usun_ocene(X, Ksiazka) :-\n",
        "    retract(ocena(X, Ksiazka, _)), % Usuwanie faktów (ocen).\n",
        "    write('Pomyslnie usunieto ocene').\n",
        "% Przykłaowe zapytanie: ?- usun_ocene(uzytkownik2, 'Wybor poezji').\n",
        "% Oczekiwana odpowiedz: Pomyslnie usunieto ocene\n",
        "\n",
        "% Reguła polecane_ksiazki/2\n",
        "polecane_ksiazki(X, Gatunek) :-\n",
        "    findall(\n",
        "        Tytul, (ksiazka(Tytul, _, Gatunek), % Funkcja findall zbiera wszystkie tytuły ksiazek,\n",
        "            preferencje(X, Gatunek),        % których gatunek pokrywa się z preferencjami uzytkownika,\n",
        "            ocena(X, Tytul, Ocena),         % które zostały ocenione przez uzytkownika\n",
        "            Ocena >= 3), \t                % na conajmniej 3\n",
        "        PolecaneKsiazki), \t               % w liście PolecaneKsiazki\n",
        "    write('Polecane ksiazki: '), write(PolecaneKsiazki).\n",
        "% Przykładowe zapytanie: ?- polecane_ksiazki(uzytkownik1, powiesc).\n",
        "% Oczekiwana odpowiedz: Polecane ksiazki: [Ojciec Chrzestny]\n",
        "\n",
        "% P.S. Program nie działa w środowisku SWISH, dlatego trzeba go uruchamiać w SWI, dlatego na GitHub załączam również plik z rozszerzeniem pl\n"
      ],
      "metadata": {
        "id": "MMhonMh-9C9g"
      },
      "execution_count": null,
      "outputs": []
    },
    {
      "cell_type": "markdown",
      "source": [
        "Tutaj również dodałem write, by urozmaicić odpowiedzi."
      ],
      "metadata": {
        "id": "f_cQUSjh_y64"
      }
    }
  ]
}