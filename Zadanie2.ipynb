{
  "nbformat": 4,
  "nbformat_minor": 0,
  "metadata": {
    "colab": {
      "provenance": [],
      "authorship_tag": "ABX9TyPz448nAR9POBspXPVtJrlE",
      "include_colab_link": true
    },
    "kernelspec": {
      "name": "python3",
      "display_name": "Python 3"
    },
    "language_info": {
      "name": "python"
    }
  },
  "cells": [
    {
      "cell_type": "markdown",
      "metadata": {
        "id": "view-in-github",
        "colab_type": "text"
      },
      "source": [
        "<a href=\"https://colab.research.google.com/github/szymonbanach/Prolog-Zadania/blob/main/Zadanie2.ipynb\" target=\"_parent\"><img src=\"https://colab.research.google.com/assets/colab-badge.svg\" alt=\"Open In Colab\"/></a>"
      ]
    },
    {
      "cell_type": "markdown",
      "source": [
        "#Zadanie 2"
      ],
      "metadata": {
        "id": "QBvaXHCP0L1T"
      }
    },
    {
      "cell_type": "code",
      "execution_count": null,
      "metadata": {
        "id": "7VoCfn5e0Fjf"
      },
      "outputs": [],
      "source": [
        "% Fakty o lotniskach\n",
        "lotnisko(warszawa).\n",
        "lotnisko(liverpool).\n",
        "lotnisko(rzym).\n",
        "lotnisko(oslo).\n",
        "lotnisko(madryt).\n",
        "\n",
        "% Fakty o połączeniach\n",
        "polaczenie(warszawa, liverpool, 200).\n",
        "polaczenie(liverpool, warszawa, 200).\n",
        "polaczenie(warszawa, rzym, 300).\n",
        "polaczenie(rzym, warszawa, 300).\n",
        "polaczenie(warszawa, oslo, 600).\n",
        "polaczenie(oslo, warszawa, 600).\n",
        "polaczenie(liverpool, rzym, 650).\n",
        "polaczenie(rzym, liverpool, 650).\n",
        "polaczenie(liverpool, oslo, 715).\n",
        "polaczenie(oslo, liverpool, 715).\n",
        "polaczenie(liverpool, madryt, 490).\n",
        "polaczenie(madryt, liverpool, 490).\n",
        "polaczenie(rzym, madryt, 550).\n",
        "polaczenie(madryt, rzym, 550).\n",
        "\n",
        "% Reguła sprawdzająca istnienie bezpośredniego połączenia\n",
        "polaczenie(X, Y) :-\n",
        "    polaczenie(Y, X, _).\n",
        "% Przykładowe zapytanie: polaczenie(warszawa, oslo).\n",
        "\n",
        "% Reguła sprawdzająca koszt podróży(dla połączeń bezpośrednich)\n",
        "koszt_podrozy(X, Y, C) :-\n",
        "    polaczenie(Y, X, C).\n",
        "% Przykładowe zapytanie: koszt_podrozy(rzym, madryt, C).\n",
        "\n",
        "% Reguła dla najkrótszej drogi między dwoma lotniskami\n",
        "%Reguła dla trasy bezpośredniej\n",
        "najkrotsza_droga(X, Y) :-\n",
        "    polaczenie(X, Y, C),\n",
        "    write('Trasa bezposrednia'), nl, write('koszt: '), write(C), nl. % nl dla nowej linii\n",
        "% Przykładowe zapytanie: najkrotsza_droga(warszawa, liverpool).\n",
        "\n",
        "% Reguła dla trasy z przesiadkami\n",
        "najkrotsza_droga(X, Y) :-\n",
        "    polaczenie(X, Z, C1), % wykorzystanie rekurencji\n",
        "    polaczenie(Z, Y, C2),\n",
        "    C is C1 + C2,\n",
        "    write('Trasa przez: '), write(Z), nl, write('koszt: '), write(C), nl. % nl dla nowej lini\n",
        "% Przykładowe zapytanie: najkrotsza_droga(madryt, oslo)."
      ]
    }
  ]
}