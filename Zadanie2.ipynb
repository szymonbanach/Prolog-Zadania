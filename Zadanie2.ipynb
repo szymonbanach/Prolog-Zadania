{
  "nbformat": 4,
  "nbformat_minor": 0,
  "metadata": {
    "colab": {
      "provenance": [],
      "authorship_tag": "ABX9TyOcn0x5MnhYEpLuJnJfTxBj",
      "include_colab_link": true
    },
    "kernelspec": {
      "name": "python3",
      "display_name": "Python 3"
    },
    "language_info": {
      "name": "python"
    }
  },
  "cells": [
    {
      "cell_type": "markdown",
      "metadata": {
        "id": "view-in-github",
        "colab_type": "text"
      },
      "source": [
        "<a href=\"https://colab.research.google.com/github/szymonbanach/Prolog-Zadania/blob/main/Zadanie2.ipynb\" target=\"_parent\"><img src=\"https://colab.research.google.com/assets/colab-badge.svg\" alt=\"Open In Colab\"/></a>"
      ]
    },
    {
      "cell_type": "markdown",
      "source": [
        "#Zadanie 2"
      ],
      "metadata": {
        "id": "QBvaXHCP0L1T"
      }
    },
    {
      "cell_type": "code",
      "execution_count": null,
      "metadata": {
        "id": "7VoCfn5e0Fjf"
      },
      "outputs": [],
      "source": [
        "% Fakty o lotniskach\n",
        "lotnisko(warszawa).\n",
        "lotnisko(liverpool).\n",
        "lotnisko(rzym).\n",
        "lotnisko(oslo).\n",
        "lotnisko(madryt).\n",
        "\n",
        "% Fakty o cenach połączeń\n",
        "polaczenie(warszawa, liverpool, 200).\n",
        "polaczenie(warszawa, rzym, 300).\n",
        "polaczenie(warszawa, oslo, 600).\n",
        "polaczenie(liverpool, rzym, 650).\n",
        "polaczenie(liverpool, oslo, 715).\n",
        "polaczenie(liverpool, madryt, 490).\n",
        "polaczenie(rzym, madryt, 550).\n",
        "\n",
        "% Reguła sprawdzająca istnienie bezpośredniego połączenia\n",
        "polaczenie(X, Y) :-\n",
        "    polaczenie(X, Y, _);\n",
        "    polaczenie(Y, X, _).\n",
        "% Przykładowe zapytanie: polaczenie(warszawa, oslo). wynik: True\n",
        "\n",
        "% Reguła sprawdzająca koszt podróży(dla połączeń bezpośrednich)\n",
        "koszt_podrozy(X, Y, Koszt) :-\n",
        "    polaczenie(X, Y, Koszt);\n",
        "    polaczenie(Y, X, Koszt).\n",
        "% Przykładowe zapytanie: koszt_podrozy(rzym, madryt, Koszt). wynik Koszt = 550\n",
        "\n",
        "% Reguła dla bezpośrednich połączeń\n",
        "najkrotsza_droga(X, Y, Trasa, Koszt) :-\n",
        "    polaczenie(X, Y, Koszt),\n",
        "    Trasa = [X, Y].\n",
        "\n",
        "% Reguła dla połączenia w drugą stronę\n",
        "najkrotsza_droga(X, Y, Trasa, Koszt) :-\n",
        "    polaczenie(Y, X, Koszt),\n",
        "    Trasa = [X, Y]. % By trasa wyświetlała się w dobrej kolejności\n",
        "\n",
        "% Reguła dla połączenia z przesiadką, z wykorzystaniem rekurencji\n",
        "najkrotsza_droga(X, Y, Trasa, Koszt) :-\n",
        "    polaczenie(X, Z, Koszt1),\n",
        "    najkrotsza_droga(Z, Y, Reszta_Trasy, Koszt2),\n",
        "    Koszt is Koszt1 + Koszt2,\n",
        "    Trasa = [X|Reszta_Trasy].\n",
        "\n",
        "% Reguła dla połączenia z przesiadką w drugą stronę\n",
        "najkrotsza_droga(X, Y, Trasa, Koszt) :-\n",
        "    polaczenie(Y, Z, Koszt1),\n",
        "    najkrotsza_droga(Z, X, Reszta_Trasy, Koszt2),\n",
        "    Koszt is Koszt1 + Koszt2,\n",
        "    Trasa = [X|Reszta_Trasy]. % By trasa wyświetlała się w dobrej kolejności\n",
        "% Przykładowe zapytanie: najkrotsza_droga(warszawa, madryt, Trasa, Koszt). Wynik Koszt = 690; Trasa = [warszawa, liverpool, madryt]\n"
      ]
    }
  ]
}