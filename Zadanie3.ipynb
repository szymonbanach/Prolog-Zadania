{
  "nbformat": 4,
  "nbformat_minor": 0,
  "metadata": {
    "colab": {
      "provenance": [],
      "authorship_tag": "ABX9TyMm5rJU0tJlWwY+9Y0FQZPy",
      "include_colab_link": true
    },
    "kernelspec": {
      "name": "python3",
      "display_name": "Python 3"
    },
    "language_info": {
      "name": "python"
    }
  },
  "cells": [
    {
      "cell_type": "markdown",
      "metadata": {
        "id": "view-in-github",
        "colab_type": "text"
      },
      "source": [
        "<a href=\"https://colab.research.google.com/github/szymonbanach/Prolog-Zadania/blob/main/Zadanie3.ipynb\" target=\"_parent\"><img src=\"https://colab.research.google.com/assets/colab-badge.svg\" alt=\"Open In Colab\"/></a>"
      ]
    },
    {
      "cell_type": "markdown",
      "source": [
        "#Zadanie 3"
      ],
      "metadata": {
        "id": "PlhB06MilD-7"
      }
    },
    {
      "cell_type": "code",
      "source": [
        "%Predykaty muszą być dynamiczne by zmieniać ich własności\n",
        ":- dynamic produkt/3.\n",
        "\n",
        "% Fakty o produktach\n",
        "produkt(tv, 20, sektor_a).\n",
        "produkt(smartfon, 54, sektor_a).\n",
        "produkt(amplituner, 30, sektor_b).\n",
        "produkt(gramofon, 15, sektor_b).\n",
        "produkt(sluchawki, 40, sektor_c).\n",
        "produkt(gitara, 12, sektor_c).\n",
        "\n",
        "% Reguła dostępności produktu\n",
        "dostepny_produkt(X) :-\n",
        "    produkt(X, N, _),\n",
        "    N > 0. % Jeśli ilość(N) jest większa niż 0, program zwróci wartość True\n",
        "\n",
        "% Reguła przenosząca produkt do innego sektoru\n",
        "przenies_produkt(X, Y) :-\n",
        "    produkt(X, N, Sektor),\n",
        "    retract(produkt(X, N, Sektor)), % usuwa\n",
        "    assertz(produkt(X, N, Y)). % dodaje\n",
        "\n",
        "% Reguła dodającą ilość\n",
        "uzupelnij_stan(X, N) :-\n",
        "    produkt(X, N1, Sektor),\n",
        "    N2 is N1 + N, % Nowa ilość to suma ilości początkowej i ilości podawanej(N)\n",
        "    retract(produkt(X, N1, Sektor)), % usuwa\n",
        "\tassertz(produkt(X, N2, Sektor)). % dodaje\n",
        "\n",
        "% PS. Program nie zadziała w SWISH, lecz W SWI już działa"
      ],
      "metadata": {
        "id": "InZvyJKAlHc9"
      },
      "execution_count": null,
      "outputs": []
    }
  ]
}