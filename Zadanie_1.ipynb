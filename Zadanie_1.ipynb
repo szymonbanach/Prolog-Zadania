{
  "nbformat": 4,
  "nbformat_minor": 0,
  "metadata": {
    "colab": {
      "provenance": [],
      "authorship_tag": "ABX9TyPE7Ugk1j+d2YDsXTr/9iAl",
      "include_colab_link": true
    },
    "kernelspec": {
      "name": "python3",
      "display_name": "Python 3"
    },
    "language_info": {
      "name": "python"
    }
  },
  "cells": [
    {
      "cell_type": "markdown",
      "metadata": {
        "id": "view-in-github",
        "colab_type": "text"
      },
      "source": [
        "<a href=\"https://colab.research.google.com/github/szymonbanach/Prolog-Zadania/blob/main/Zadanie_1.ipynb\" target=\"_parent\"><img src=\"https://colab.research.google.com/assets/colab-badge.svg\" alt=\"Open In Colab\"/></a>"
      ]
    },
    {
      "cell_type": "markdown",
      "source": [
        "#Zadanie 1"
      ],
      "metadata": {
        "id": "-9hoxltFG5BQ"
      }
    },
    {
      "cell_type": "code",
      "execution_count": null,
      "metadata": {
        "id": "AgnY3T8JG3qG"
      },
      "outputs": [],
      "source": [
        "% Używam dyrektywy discontigous by fakty mogły być rozdzielone na grupy\n",
        ":- discontiguous ojciec/2.\n",
        ":- discontiguous matka/2.\n",
        ":- discontiguous malzenstwo/2.\n",
        ":- discontiguous mezczyzna/1.\n",
        ":- discontiguous kobieta/1.\n",
        "\n",
        "% Fakty o rodzicach1\n",
        "ojciec(piotr, szymon).\n",
        "ojciec(piotr, michal).\n",
        "ojciec(piotr, izabela).\n",
        "matka(agnieszka, szymon).\n",
        "matka(agnieszka, michal).\n",
        "matka(agnieszka, izabela).\n",
        "\n",
        "% Fakty o relacji rodziców1\n",
        "malzenstwo(piotr, agnieszka).\n",
        "\n",
        "% Fakty o płci1\n",
        "mezczyzna(piotr).\n",
        "mezczyzna(szymon).\n",
        "mezczyzna(michal).\n",
        "kobieta(agnieszka).\n",
        "kobieta(izabela).\n",
        "\n",
        "%fakty rodzicach2\n",
        "ojciec(lukasz, tomasz).\n",
        "matka(ewa, tomasz).\n",
        "\n",
        "%fakty o relacji rodziców2\n",
        "malzenstwo(lukasz, ewa).\n",
        "\n",
        "%fakty o płci2\n",
        "mezczyzna(lukasz).\n",
        "mezczyzna(tomasz).\n",
        "kobieta(ewa).\n",
        "\n",
        "%fakty o dziadkach\n",
        "ojciec(jozef, agnieszka).\n",
        "ojciec(jozef, ewa).\n",
        "matka(krystyna, agnieszka).\n",
        "matka(krystyna, ewa).\n",
        "mezczyzna(jozef).\n",
        "kobieta(krystyna).\n",
        "\n",
        "\n",
        "% Reguła rodzica\n",
        "rodzic(X, Y) :- ojciec(X, Y).\n",
        "rodzic(X, Y) :- matka(X, Y).\n",
        "% Przykładowe zapytanie: ?- rodzic(piotr, szymon).\n",
        "% Oczekiwana odpowiedz: True\n",
        "\n",
        "\n",
        "% Reguła przodka\n",
        "przodek(X, Y) :- rodzic(X, Y).\n",
        "% dodaję rekurencję do następnych pokoleń\n",
        "przodek(X, Y) :-\n",
        "  rodzic(X, Z),\n",
        "  rodzic(Z, Y).\n",
        "% Przykładowe zapytanie: ?- przodek(jozef, szymon).\n",
        "% Oczekiwana odpowiedz: True\n",
        "\n",
        "% Reguła malzenstwa\n",
        "malzenstwo(X, Y) :-\n",
        "    malzenstwo(Y, X).\n",
        "\n",
        "% Reguła brata i siostry\n",
        "brat(X, Y) :-\n",
        "  rodzic(Z, X),\n",
        "  rodzic(Z, Y),\n",
        "  X \\= Y, % X nie może być bratem samego siebie.\n",
        "  mezczyzna(X).\n",
        "% Przykładowe zapytanie: ?- brat(michal, szymon).\n",
        "% Oczekiwana odpowiedz: True\n",
        "\n",
        "siostra(X, Y) :-\n",
        "  rodzic(Z, X),\n",
        "  rodzic(Z, Y),\n",
        "  X \\= Y, % X nie może być siostrą samej siebie.\n",
        "  kobieta(X).\n",
        "% Przykładowe zapytanie: ?- siostra(agnieszka, ewa).\n",
        "% Oczekiwana odpowiedz: True\n",
        "\n",
        "% Reguła rodzeństwa potrzebna do reguły kuzyna\n",
        "rodzenstwo(X, Y) :-\n",
        "  brat(X, Y).\n",
        "rodzenstwo(X, Y) :-\n",
        "  siostra(X, Y).\n",
        "\n",
        "% Reguła kuzyna\n",
        "kuzyn(X, Y) :-\n",
        "  rodzic(Z, X),\n",
        "  rodzic(V, Y),\n",
        "  rodzenstwo(Z, V). % rodzice kuzynów muszą być rodzeństwem\n",
        "% Przykładowe zapytanie: ?- kuzyn(tomasz, szymon).\n",
        "% Oczeikiwana odpowiedz: True\n",
        "\n"
      ]
    }
  ]
}