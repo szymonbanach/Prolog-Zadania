{
  "nbformat": 4,
  "nbformat_minor": 0,
  "metadata": {
    "colab": {
      "provenance": [],
      "authorship_tag": "ABX9TyMcxxdgFAMtmg85/O6h26yj",
      "include_colab_link": true
    },
    "kernelspec": {
      "name": "python3",
      "display_name": "Python 3"
    },
    "language_info": {
      "name": "python"
    }
  },
  "cells": [
    {
      "cell_type": "markdown",
      "metadata": {
        "id": "view-in-github",
        "colab_type": "text"
      },
      "source": [
        "<a href=\"https://colab.research.google.com/github/szymonbanach/Prolog-Zadania/blob/main/Zadanie_2.ipynb\" target=\"_parent\"><img src=\"https://colab.research.google.com/assets/colab-badge.svg\" alt=\"Open In Colab\"/></a>"
      ]
    },
    {
      "cell_type": "markdown",
      "source": [
        "#Zadanie 2"
      ],
      "metadata": {
        "id": "QBvaXHCP0L1T"
      }
    },
    {
      "cell_type": "code",
      "execution_count": null,
      "metadata": {
        "id": "7VoCfn5e0Fjf",
        "colab": {
          "base_uri": "https://localhost:8080/",
          "height": 106
        },
        "outputId": "5f171cbc-4ce4-4a62-9896-74d24ceff924"
      },
      "outputs": [
        {
          "output_type": "error",
          "ename": "IndentationError",
          "evalue": "unindent does not match any outer indentation level (<tokenize>, line 46)",
          "traceback": [
            "\u001b[0;36m  File \u001b[0;32m\"<tokenize>\"\u001b[0;36m, line \u001b[0;32m46\u001b[0m\n\u001b[0;31m    X \\= Y,\u001b[0m\n\u001b[0m    ^\u001b[0m\n\u001b[0;31mIndentationError\u001b[0m\u001b[0;31m:\u001b[0m unindent does not match any outer indentation level\n"
          ]
        }
      ],
      "source": [
        "% Fakty o lotniskach\n",
        "lotnisko(warszawa).\n",
        "lotnisko(liverpool).\n",
        "lotnisko(rzym).\n",
        "lotnisko(oslo).\n",
        "lotnisko(madryt).\n",
        "\n",
        "% Fakty o połączeniach\n",
        "polaczenie(warszawa, liverpool, 200).\n",
        "polaczenie(liverpool, warszawa, 200).\n",
        "polaczenie(warszawa, rzym, 300).\n",
        "polaczenie(rzym, warszawa, 300).\n",
        "polaczenie(warszawa, oslo, 600).\n",
        "polaczenie(oslo, warszawa, 600).\n",
        "polaczenie(liverpool, rzym, 650).\n",
        "polaczenie(rzym, liverpool, 650).\n",
        "polaczenie(liverpool, oslo, 850).\n",
        "polaczenie(oslo, liverpool, 850).\n",
        "polaczenie(liverpool, madryt, 490).\n",
        "polaczenie(madryt, liverpool, 490).\n",
        "polaczenie(rzym, madryt, 550).\n",
        "polaczenie(madryt, rzym, 550).\n",
        "\n",
        "% Reguła sprawdzająca istnienie bezpośredniego połączenia\n",
        "polaczenie(X, Y) :-\n",
        "    polaczenie(Y, X, _),\n",
        "    write('Dostepne polaczenie bezposrednie').\n",
        "% Przykładowe zapytanie: ?- polaczenie(warszawa, oslo).\n",
        "% Oczekiwana odpowiedz: true\n",
        "\n",
        "% Pomocnicza reguła wynajdująca trasę bezpośrednią\n",
        "trasa(X, Y, _, C, [X, Y]) :-\n",
        "    polaczenie(X, Y, C),\n",
        "     X \\= Y. % Miasto początkowe nie może być miastem docelowym\n",
        "% Pomocnicza reguła wynajdujaca trasę pośrednią\n",
        "trasa(X, Y, Odwiedzone, C, [X | ResztaS]) :- % Odwiedzone - lista punktów odwiedzonych już, [X | ResztaS(Reszta drogi)] - lista punktów jakie trzeba odwiedzić.\n",
        "    polaczenie(X, Z, C1),\n",
        "    lotnisko(X), lotnisko(Y), % Oba miasta muszą istnieć w bazie\n",
        "    X \\= Y, % Miasto początkowe nie może być miastem docelowym\n",
        "    \\+ member(Z, Odwiedzone), % Pilnuje czy punkt Z nie znajduje się w Odwiedzonych, by zapobiec zapętleniu\n",
        "    trasa(Z, Y, [Z | Odwiedzone], C2, ResztaS), % Wykorzystanie rekurencji\n",
        "    C is C1 + C2. % Pełna cena podróży składa się z cen połączeń bezpośrednich\n",
        "\n",
        "% Reguła sprawdzająca koszt podróży.\n",
        "koszt_podrozy(X, Y) :-\n",
        "\tlotnisko(X), lotnisko(Y),\n",
        "    X \\= Y,\n",
        "    findall((C, S), trasa(X, Y, [X], C, S), Wyniki), % Funkcja findall zbiera wszystkie kombinacje cen i tras w liście wyniki. [X] - lista zawierająca punkt startowy, jest początkowym stanem listy Odwiedzone.\n",
        "    findall(C, member((C, _), Wyniki), Lista), % Funkcja findall zbiera wszystkie ceny wywoływanego połączenia z listy Wyniki i umieszcza je w liście Lista.\n",
        "\twrite('Ceny połączenia: '), write(Lista).\n",
        "% Przykładowe zapytanie: koszt_podrozy(rzym, madryt).\n",
        "% Oczekiwana odpowiedz: Ceny połączenia: [550, 990, 2240, 1140]\n",
        "\n",
        "% Moja reguła różni się od tej z polecenia, ponieważ pomyślałem, że dobrym pomysłem byłoby wypisanie wszystkich cen, niż żeby program wypisał pierwszą lepszą.\n",
        "% W razie czego przedstawiam również niżej bardziej zbliżoną wersję do tej z polecenia:\n",
        "koszt_podrozy1(X, Y, C) :-\n",
        "    trasa(X, Y, [], C, _), !. % Korzystam z reguły trasa, w której są zawarte wszystkie potrzebne informacje, lecz czas będzie różnić się w zależności od kierunku przejazdu na tej samej trasie.\n",
        "% Przykładowe zapytanie: koszt_podrozy1(rzym, madryt, C).\n",
        "% Oczekiwana odpowiedz: C = 550\n",
        "\n",
        "% Regula wyznaczająca najkrótszą trasę wg. ceny\n",
        "najkrotsza_droga(X, Y) :-\n",
        "    findall((C, S), trasa(X, Y, [X], C, S), Wyniki), % Funkcja findall zbiera wszystkie kombinacje cen i tras w liście wyniki. [X] - lista zawierająca punkt startowy, jest początkowym stanem listy Odwiedzone.\n",
        "    findall(C, member((C, _), Wyniki), Lista), % Funkcja findall zbiera wszystkie ceny wywoływanego połączenia z listy Wyniki i umieszcza je w liście Lista.\n",
        "    min_list(Lista, MinC), % Wybiera najmniejsze wartości cen z listy.\n",
        "    member((MinC, MinS), Wyniki), % MinC, MinS znajdują się w liście Wyniki.\n",
        "    write('Koszt: '), write(MinC), nl, % nl dla nowej lini\n",
        "    write('Trasa: '), write(MinS), !. % cut\n",
        "% Przykładowe zapytanie: najkrotsza_droga(oslo, madryt).\n",
        "% Oczekiwana odpowiedz: Koszt: 1290, Trasa: [oslo, warszawa, liverpool, madryt]\n",
        "\n",
        "% P.S. Początkowo chciałem rozwiązać zadanie w sposób poniżej lecz wtedy program nie wyznaczał trasy wg. ceny\n",
        "% dlatego musiałem skorzystać z konstrukcji findall, member i min_list\n",
        "%Reguła dla trasy bezpośredniej\n",
        "%najkrotsza_droga(X, Y) :-\n",
        "%    polaczenie(X, Y, C),\n",
        "%    write('Trasa bezposrednia'), nl, write('koszt: '), write(C), nl.\n",
        "%najkrotsza_droga(X, Y) :-\n",
        "%    polaczenie(X, Z, C1),\n",
        "%    polaczenie(Z, Y, C2),\n",
        "%    C is C1 + C2,\n",
        "%    write('Trasa przez: '), write(Z), nl, write('koszt: '), write(C), nl."
      ]
    }
  ]
}