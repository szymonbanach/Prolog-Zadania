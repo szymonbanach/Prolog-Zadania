{
  "nbformat": 4,
  "nbformat_minor": 0,
  "metadata": {
    "colab": {
      "provenance": [],
      "authorship_tag": "ABX9TyMK/zfArVNeQ/BoIWCDQUgz",
      "include_colab_link": true
    },
    "kernelspec": {
      "name": "python3",
      "display_name": "Python 3"
    },
    "language_info": {
      "name": "python"
    }
  },
  "cells": [
    {
      "cell_type": "markdown",
      "metadata": {
        "id": "view-in-github",
        "colab_type": "text"
      },
      "source": [
        "<a href=\"https://colab.research.google.com/github/szymonbanach/Prolog-Zadania/blob/main/Zadanie_3.ipynb\" target=\"_parent\"><img src=\"https://colab.research.google.com/assets/colab-badge.svg\" alt=\"Open In Colab\"/></a>"
      ]
    },
    {
      "cell_type": "markdown",
      "source": [
        "#Zadanie 3"
      ],
      "metadata": {
        "id": "PlhB06MilD-7"
      }
    },
    {
      "cell_type": "code",
      "source": [
        "%Predykaty muszą być dynamiczne by zmieniać ich własności\n",
        ":- dynamic produkt/3.\n",
        "\n",
        "% Fakty o produktach\n",
        "produkt(tv, 20, sektor_a).\n",
        "produkt(smartfon, 54, sektor_a).\n",
        "produkt(amplituner, 30, sektor_b).\n",
        "produkt(gramofon, 15, sektor_b).\n",
        "produkt(sluchawki, 40, sektor_c).\n",
        "produkt(gitara, 12, sektor_c).\n",
        "\n",
        "% Reguła dostępności produktu\n",
        "dostepny_produkt(X) :-\n",
        "    produkt(X, N, _),\n",
        "    N > 0, % Jeśli ilość(N) jest większa niż 0, program zwróci wartość True\n",
        "\twrite('Status produktu: Dostepny').\n",
        "% Przykładowe zapytanie: ?- dostepny_produkt(tv).\n",
        "% Oczekiwana odpowiedz: Status produktu: Dostepny\n",
        "\n",
        "% Reguła przenosząca produkt do innego sektoru\n",
        "przenies_produkt(X, Y) :-\n",
        "    produkt(X, N, OldY),\n",
        "    retract(produkt(X, N, OldY)), % usuwa\n",
        "    assertz(produkt(X, N, Y)), % dodaje\n",
        "\twrite(produkt(X, N, Y)). % Nowa lokalizacja produktu\n",
        "% Przykładowe zapytanie: ?- przenies_produkt(tv, sektor_b).\n",
        "% Oczekiwana odpowiedz: produkt(tv,20,sektor_b)\n",
        "\n",
        "% Reguła dodającą ilość\n",
        "uzupelnij_stan(X, N) :-\n",
        "    produkt(X, N1, Y),\n",
        "    N2 is N1 + N, % Nowa ilość to suma ilości początkowej i ilości podawanej(N)\n",
        "    retract(produkt(X, N1, Y)), % usuwa\n",
        "\tassertz(produkt(X, N2, Y)), % dodaje\n",
        "\twrite(produkt(X, N2, Y)). %Nowa ilość produktu\n",
        "% Przykładowe zapytanie: ?- uzupelnij_stan(tv, 10).\n",
        "% Oczekiwana odpowiedz: produkt(tv,30,sektor_b)\n",
        "\n",
        "% P.S. Program nie działa w środowisku SWISH, dlatego trzeba go uruchamiać w SWI, dlatego na GitHub załączam również plik z rozszerzeniem pl."
      ],
      "metadata": {
        "id": "InZvyJKAlHc9"
      },
      "execution_count": null,
      "outputs": []
    }
  ]
}