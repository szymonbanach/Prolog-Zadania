{
  "nbformat": 4,
  "nbformat_minor": 0,
  "metadata": {
    "colab": {
      "provenance": [],
      "authorship_tag": "ABX9TyOE84slPA+BSd4FqcUpYz3Y",
      "include_colab_link": true
    },
    "kernelspec": {
      "name": "python3",
      "display_name": "Python 3"
    },
    "language_info": {
      "name": "python"
    }
  },
  "cells": [
    {
      "cell_type": "markdown",
      "metadata": {
        "id": "view-in-github",
        "colab_type": "text"
      },
      "source": [
        "<a href=\"https://colab.research.google.com/github/szymonbanach/Prolog-Zadania/blob/main/Zadanie_4.ipynb\" target=\"_parent\"><img src=\"https://colab.research.google.com/assets/colab-badge.svg\" alt=\"Open In Colab\"/></a>"
      ]
    },
    {
      "cell_type": "markdown",
      "source": [
        "#Zadanie 4"
      ],
      "metadata": {
        "id": "V4Weo7YxZXhh"
      }
    },
    {
      "cell_type": "code",
      "execution_count": null,
      "metadata": {
        "id": "pryN8AQcZU2G"
      },
      "outputs": [],
      "source": [
        "% Fakty dla miast\n",
        "miasto(warszawa).\n",
        "miasto(lublin).\n",
        "miasto(krakow).\n",
        "miasto(wroclaw).\n",
        "miasto(gdansk).\n",
        "miasto(poznan).\n",
        "\n",
        "% Fakty dla połączeń bezpośrednich\n",
        "droga(warszawa, lublin, 2).\n",
        "droga(lublin, warszawa, 2).\n",
        "droga(lublin, krakow, 3).\n",
        "droga(krakow, lublin, 3).\n",
        "droga(krakow, wroclaw, 3).\n",
        "droga(wroclaw, krakow, 3).\n",
        "droga(gdansk, poznan, 4).\n",
        "droga(poznan, gdansk, 4).\n",
        "droga(warszawa, krakow, 2).\n",
        "droga(krakow, warszawa, 2).\n",
        "droga(warszawa, gdansk, 3).\n",
        "droga(gdansk, warszawa, 3).\n",
        "droga(warszawa, poznan, 3).\n",
        "droga(poznan, warszawa, 3).\n",
        "droga(wroclaw, poznan, 1).\n",
        "droga(poznan, wroclaw, 1).\n",
        "\n",
        "% Reguły\n",
        "droga(X, Y) :-\n",
        "    droga(X, Y, _),\n",
        "    write('Istnieje bezposrednie polaczenie: '), write(X), write(' - '), write(Y), !. % Dodałem to dodatkowo\n",
        "% Przykładowe zapytanie: ?- droga(lublin, warszawa).\n",
        "% Oczekiwana odpowiedz: Istnieje bezposrednie polaczenie: lublin - warszawa\n",
        "\n",
        "% Pomocnicza reguła wynajdująca trasę bezpośrednią\n",
        "trasa(X, Y, _, T, [X, Y]) :-\n",
        "    droga(X, Y, T), % Bezpośrednie połączenie\n",
        "    miasto(X), miasto(Y). % Oba miasta muszą istnieć w bazie\n",
        "% Pomocnicza reguła wynajdujaca trasę pośrednią\n",
        "trasa(X, Y, Odwiedzone, T, [X | ResztaS]) :- % Odwiedzone - lista punktów odwiedzonych już, [X | ResztaS(Reszta drogi)] - lista punktów jakie trzeba odwiedzić.\n",
        "    droga(X, Z, T1),\n",
        "    miasto(X), miasto(Y), % Oba miasta muszą istnieć w bazie\n",
        "    X \\= Y, % Miasto początkowe nie może być miastem docelowym\n",
        "    \\+ member(Z, Odwiedzone), % Pilnuje czy punkt Z nie znajduje się w Odwiedzonych, by zapobiec zapętleniu\n",
        "    trasa(Z, Y, [Z | Odwiedzone], T2, ResztaS), % Wykorzystanie rekurencji\n",
        "    T is T1 + T2. % Pełen czas podróży składa się z czasów indwywidualnych połączeń bezpośrednich\n",
        "\n",
        "czas_przejazdu(X, Y) :-\n",
        "    miasto(X), miasto(Y),\n",
        "    X \\= Y,\n",
        "    findall((T, S), trasa(X, Y, [X], T, S), Wyniki), % Funkcja findall zbiera wszystkie kombinacje cen i tras w liście wyniki. [X] - lista zawierająca punkt startowy, jest początkowym stanem listy Odwiedzone.\n",
        "    findall(T, member((T, _), Wyniki), Lista), % Funkcja findall zbiera wszystkie ceny wywoływanego połączenia z listy Wyniki i umieszcza je w liście Lista.\n",
        "\twrite('Czasy przejazdu: '), write(Lista).\n",
        "% Przykładowe zapytanie: ?- czas_przejazdu(gdansk, lublin).\n",
        "% Oczekiwana odpowiedz: Czasy przejazdu: [9, 12, 11, 12, 5, 8, 13]\n",
        "\n",
        "% Tak jak w zad.2 moja reguła różni się od tej z polecenia, ponieważ również pomyślałem, że dobrym pomysłem byłoby wypisanie wszystkich czasów, niż żeby program wypisał pierwszy lepszy.\n",
        "% Wersja bardziej zbliżona do tej z polecenia poniżej:\n",
        "czas_przejazdu1(X, Y, T) :-\n",
        "    trasa(X, Y, [], T, _), !. % Korzystam z reguły trasa, w której są zawarte wszystkie potrzebne informacje, lecz czas będzie różnić się w zależności od kierunku przejazdu na tej samej trasie.\n",
        "% Przykładowe zapytanie: ?- czas_przejazdu1(lublin, gdansk, T).\n",
        "% Oczekiwana odpowiedz: Czasy przejazdu: T = 5\n",
        "\n",
        "% Reguła wyznaczajaca najkrótszą trasę względem czasu przejazdu\n",
        "najkrotsza_trasa(X, Y) :-\n",
        "    findall((T, S), trasa(X, Y, [X], T, S), Wyniki), % Funkcja findall zbiera wszystkie kombinacje czasówn i tras w liście wyniki. [X] - lista zawierająca punkt startowy, jest początkowym stanem listy Odwiedzone.\n",
        "    findall(T, member((T, _), Wyniki), Lista), % Funkcja findall zbiera wszystkie czasy wywoływanego połączenia z listy Wyniki i umieszcza je w liście Lista.\n",
        "    min_list(Lista, MinT), % Wybiera najmniejsze wartości czsów z listy.\n",
        "    member((MinT, MinS), Wyniki), % MinT, MinS znajdują się w liście Wyniki.\n",
        "    write('Najkrotszy czas przejazdu: '), write(MinT), nl, % dla nowej linijki\n",
        "    write('Trasa: '), write(MinS), !. % cut\n",
        "% Przykładowe zapytanie: ?- najkrotsza_trasa(lublin, wroclaw).\n",
        "% Oczekiwana odpowiedz: Najkrotszy czas przejazdu: 6, Trasa: [lublin, warszawa, poznan, wroclaw]\n",
        "\n",
        "\n"
      ]
    }
  ]
}