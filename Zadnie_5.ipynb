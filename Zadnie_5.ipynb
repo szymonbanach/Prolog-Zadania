{
  "nbformat": 4,
  "nbformat_minor": 0,
  "metadata": {
    "colab": {
      "provenance": [],
      "authorship_tag": "ABX9TyPeaGqvfkLgxuXlnooS9LCo",
      "include_colab_link": true
    },
    "kernelspec": {
      "name": "python3",
      "display_name": "Python 3"
    },
    "language_info": {
      "name": "python"
    }
  },
  "cells": [
    {
      "cell_type": "markdown",
      "metadata": {
        "id": "view-in-github",
        "colab_type": "text"
      },
      "source": [
        "<a href=\"https://colab.research.google.com/github/szymonbanach/Prolog-Zadania/blob/main/Zadnie_5.ipynb\" target=\"_parent\"><img src=\"https://colab.research.google.com/assets/colab-badge.svg\" alt=\"Open In Colab\"/></a>"
      ]
    },
    {
      "cell_type": "markdown",
      "source": [
        "# Zadanie 5"
      ],
      "metadata": {
        "id": "FmjAGnrKjh1P"
      }
    },
    {
      "cell_type": "code",
      "execution_count": null,
      "metadata": {
        "id": "Aj_wFKzPjgN8"
      },
      "outputs": [],
      "source": [
        ":- dynamic ocena/3.\n",
        "\n",
        "% Fakty\n",
        "ksiazka('Ogniem i mieczem', sienkiewicz, powiesc).\n",
        "ksiazka('Mroki', gombrowicz, poezja).\n",
        "ksiazka('Lalka', prus, powiesc).\n",
        "ksiazka('Maly ksiaze', saint-exupery, powiesc).\n",
        "ksiazka('Wybor poezji', lesmian, poezja).\n",
        "ksiazka('Ojciec Chrzestny', puzo, powiesc).\n",
        "ocena(uzytkownik1, 'Ogniem i mieczem', 2).\n",
        "ocena(uzytkownik1, 'Ojciec Chrzestny', 5).\n",
        "preferencje(uzytkownik1, powiesc).\n",
        "preferencje(uzytkownik2, poezja).\n",
        "\n",
        "% Dodanie nowej oceny\n",
        "dodaj_ocene(X, Ksiazka, Ocena) :-\n",
        "    assertz(ocena(X, Ksiazka, Ocena)). % Dodawanie nowych faktów (ocen).\n",
        "% Przykład: dodaj_ocene(uzytkownik2, 'Wybor poezji', 5).\n",
        "\n",
        "% Usunięcie oceny\n",
        "usun_ocene(X, Ksiazka) :-\n",
        "    retract(ocena(X, Ksiazka, _)). % Usuwanie faktów (ocen).\n",
        "% Przykład: usun_ocene(uzytkownik2, 'Wybor poezji').\n",
        "\n",
        "% Reguła polecane_ksiazki/2\n",
        "polecane_ksiazki(X, Gatunek) :-\n",
        "    findall(\n",
        "        Tytul, (ksiazka(Tytul, _, Gatunek), % Funkcja findall zbiera wszystkie tytuły ksiazek,\n",
        "            preferencje(X, Gatunek),        % których gatunek pokrywa się z preferencjami uzytkownika,\n",
        "            ocena(X, Tytul, Ocena),         % które zostały ocenione przez uzytkownika\n",
        "            Ocena >= 3), \t  % na conajmniej 3\n",
        "        PolecaneKsiazki), \t% w liście PolecaneKsiazki\n",
        "    write(PolecaneKsiazki).\n",
        "% Przykładowe zapytanie:\n",
        "\n",
        "% P.S. Program nie działa w środowisku SWISH, dlatego trzeba go uruchamiać w SWI"
      ]
    }
  ]
}